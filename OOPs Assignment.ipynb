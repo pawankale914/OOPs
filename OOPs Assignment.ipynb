{
 "cells": [
  {
   "cell_type": "raw",
   "id": "26187aae-300f-4f6f-9b7c-6cf68eec5fa2",
   "metadata": {},
   "source": [
    "Q1. What are the five key concepts of Object-Oriented Programming (OOP)?\n",
    "Answer:-\n",
    " 1)Encapsulation\n",
    "The idea of wrapping data and the methods that work on it within a single unit. This prevents accidental modification of data by restricting direct access to variables and methods. \n",
    "\n",
    " 2)Polymorphism\n",
    "Allows a single function or method to operate on different data types or objects. This results in more flexible code and simpler interfaces. \n",
    "\n",
    " 3)Abstraction\n",
    "The goal of abstraction is to handle complexity by hiding unnecessary details from the user. This allows the user to implement more complex logic without understanding the hidden complexity. \n",
    "\n",
    "  4)Inheritance\n",
    "Allows attributes and methods to be acquired from the base class to the derived class. \n",
    "\n",
    "  5)Classes/objects\n",
    "A basic concept of object-oriented design. "
   ]
  },
  {
   "cell_type": "code",
   "execution_count": 7,
   "id": "4cd6f6e2-f055-447c-9406-ba22cd2b269f",
   "metadata": {},
   "outputs": [],
   "source": [
    "#Q2.Write a Python class for a `Car` with attributes for `make`, `model`, and `year`. Include a method to display  the car's information.\n",
    "#Answer:-\n",
    "class Car(object):\n",
    "    def __init__(self, make, model, year):\n",
    "        self.make = make\n",
    "        self.model = model\n",
    "    def __str__(self):\n",
    "        return '%s %s %s' % (self.year, self.make, self.model)\n"
   ]
  },
  {
   "cell_type": "code",
   "execution_count": 8,
   "id": "ab98d2c1-f894-4135-bdbb-bc9e85757917",
   "metadata": {},
   "outputs": [],
   "source": [
    "mine = Car('Tesla', 'Model 3', '2018')"
   ]
  },
  {
   "cell_type": "raw",
   "id": "3bcca38e-af97-4442-b456-e1be4348f86a",
   "metadata": {},
   "source": [
    "Q3. Explain the difference between instance methods and class methods. Provide an example of each.\n",
    "Answer:-\n",
    "\n",
    "                       Instance Method                                          class Method\n",
    "1.  A method defined within a class, taking `self` as         A method bound to the class itself, defined with \n",
    "    the first parameter, representing the instanUnlike other programming languages like Java, C++, and C#, Python does not support the feature of method overloading by default. However, there are alternative ways to achieve it.ce            \"@classmethod\".\n",
    "\n",
    "2.Can access and modify instance attributes.                 Can access class attributes and modify them.\n",
    "\n",
    "3.Receives `self` as the first argument representing         Receives 'cls' as the first argument representing \n",
    "the instance.                                                the class.\n",
    "\n",
    "4.Commonly used for operations specific to individual        Often used for operations that modify or interact\n",
    "instances.                                                   with class-level data.\n",
    "  \n",
    "5.Can be overridden in subclasses, with 'self'               Can be overridden in subclasses, with 'cls' referring \n",
    "referringto the subclass instance.                           to the subclass.\n",
    "\n",
    "6.Preferred when the method operates on instance-specific    Typically used when the method needs access to \n",
    "attributes.                                                  class-level data.\n",
    "\n",
    "7.ex-Returning information specific to an instance, like     ex-Calculating statistics across all instances of \n",
    "its attributes.                                              a class."
   ]
  },
  {
   "cell_type": "raw",
   "id": "2ec9ad88-0428-4a61-8f25-785b55d6212f",
   "metadata": {},
   "source": [
    "Q4. How does Python implement method overloading? Give an example.\n",
    "Answer:-\n",
    "  Method overloading is a feature of object-oriented programming where a class can have multiple methods with the same name but different parameters. To overload method, we must change the number of parameters or the type of parameters, or both.\n",
    "   Unlike other programming languages like Java, C++, and C#, Python does not support the feature of method overloading by default. However, there are alternative ways to achieve it.\n",
    "  If you define a method multiple times as shown in the below code, the last definition will override the previous ones. Therefore, this way of achieving method overloading in Python generates error.\n",
    "  ex-"
   ]
  },
  {
   "cell_type": "code",
   "execution_count": 17,
   "id": "2b7699b8-41ff-4f06-b33b-4936a058bbea",
   "metadata": {},
   "outputs": [
    {
     "name": "stdout",
     "output_type": "stream",
     "text": [
      "100\n"
     ]
    }
   ],
   "source": [
    "def product(a, b):\n",
    "    p = a * b\n",
    "    print(p)\n",
    "\n",
    "\n",
    "def product(a, b, c):\n",
    "    p = a * b*c\n",
    "    print(p)\n",
    "\n",
    "#product(4, 5)\n",
    "\n",
    "\n",
    "product(4, 5, 5)\n"
   ]
  },
  {
   "cell_type": "raw",
   "id": "05e72829-9293-4af7-ba36-3e944fedf1d5",
   "metadata": {},
   "source": [
    "Q5.What are the three types of access modifiers in Python? How are they denoted?\n",
    "Answer:-\n",
    "  Encapsulation is one of the four principles used in Object Oriented Paradigm. It is used to bind and hide data to the class. Data hiding is also referred as Scoping and the accessibility of a method or a field of a class can be changed by the developer. The implementation of scoping is different for different programming language. For example, statically typed, compiled language has direct support to scoping with the help of keywords which are mentioned when the method or field is declared. However Python does not have such keywords since it is a scripting language, and it is interpreted instead of being compiled. Mainly, Access Modifiers can be categorized as Public, Protected and Private in a class.\n",
    "  Python uses the ‘_’ symbol to determine the access control for a specific data member or a member function of a class. Access specifiers in Python have an important role to play in securing data from unauthorized access and in preventing it from being exploited. But it is not like other languages like Java and C++ since Python uses the concept of Name Mangling for achieving data hiding.\n",
    "A Class in Python has three types of access modifiers:\n",
    " 1)Public Access Modifier: Theoretically, public methods and fields can be accessed directly by any class.\n",
    " 2)Protected Access Modifier: Theoretically, protected methods and fields can be accessed within the same class it is declared and its subclass.\n",
    " 3)Private Access Modifier: Theoretically, private methods and fields can be only accessed within the same class it is declared.\n",
    "\n",
    "1)Public Access Modifier:\n",
    "The members of a class that are declared public are easily accessible from any part of the program. All data members and member functions of a class are public by default. \n",
    "ex-"
   ]
  },
  {
   "cell_type": "code",
   "execution_count": 3,
   "id": "79880dd9-6c46-4eeb-918d-e4602c1da64b",
   "metadata": {},
   "outputs": [
    {
     "name": "stdout",
     "output_type": "stream",
     "text": [
      "List of fields and methods inside obj: ['__class__', '__delattr__', '__dict__', '__dir__', '__doc__', '__eq__', '__format__', '__ge__', '__getattribute__', '__getstate__', '__gt__', '__hash__', '__init__', '__init_subclass__', '__le__', '__lt__', '__module__', '__ne__', '__new__', '__reduce__', '__reduce_ex__', '__repr__', '__setattr__', '__sizeof__', '__str__', '__subclasshook__', '__weakref__', 'displayAge', 'geekAge', 'geekName']\n",
      "Name: R2J\n",
      "Age:  20\n"
     ]
    }
   ],
   "source": [
    "class Geek:\n",
    "    def __init__(self, name, age):\n",
    "\n",
    "        self.geekName = name\n",
    "        self.geekAge = age\n",
    "\n",
    "    def displayAge(self):\n",
    "        print(\"Age: \", self.geekAge)\n",
    "\n",
    "obj = Geek(\"R2J\", 20)\n",
    "\n",
    "print(\"List of fields and methods inside obj:\", dir(obj))\n",
    "\n",
    "print(\"Name:\", obj.geekName)\n",
    "\n",
    "obj.displayAge()\n"
   ]
  },
  {
   "cell_type": "raw",
   "id": "7a2ce5c1-ed89-4966-b5a2-a21e1327afb5",
   "metadata": {},
   "source": [
    "2)Protected Access Modifier:\n",
    "The members of a class that are declared protected are only accessible within the class where it is declared and its subclass. To implement protected field or method, the developer follows a specific convention mostly by adding prefix to the variable or function name. Popularly, a single underscore “_” is used to describe a protected data member or method of the class. Note that the python interpreter does not treat it as protected data like other languages, it is only denoted for the programmers since they would be trying to access it using plain name instead of calling it using the respective prefix. \n",
    "ex-"
   ]
  },
  {
   "cell_type": "code",
   "execution_count": 4,
   "id": "a8c782f5-6b38-451f-b9fe-4303dcbed81f",
   "metadata": {},
   "outputs": [
    {
     "name": "stdout",
     "output_type": "stream",
     "text": [
      "['__class__', '__delattr__', '__dict__', '__dir__', '__doc__', '__eq__', '__format__', '__ge__', '__getattribute__', '__getstate__', '__gt__', '__hash__', '__init__', '__init_subclass__', '__le__', '__lt__', '__module__', '__ne__', '__new__', '__reduce__', '__reduce_ex__', '__repr__', '__setattr__', '__sizeof__', '__str__', '__subclasshook__', '__weakref__', '_branch', '_displayRollAndBranch', '_name', '_roll']\n",
      "Alpha\n",
      "Roll: 1234567\n",
      "Branch: Computer Science\n",
      "\n",
      "['__class__', '__delattr__', '__dict__', '__dir__', '__doc__', '__eq__', '__format__', '__ge__', '__getattribute__', '__getstate__', '__gt__', '__hash__', '__init__', '__init_subclass__', '__le__', '__lt__', '__module__', '__ne__', '__new__', '__reduce__', '__reduce_ex__', '__repr__', '__setattr__', '__sizeof__', '__str__', '__subclasshook__', '__weakref__', '_branch', '_displayRollAndBranch', '_name', '_roll', 'displayDetails']\n",
      "Name: R2J\n",
      "Roll: 1706256\n",
      "Branch: Information Technology\n"
     ]
    }
   ],
   "source": [
    "class Student:\n",
    "    _name = None\n",
    "    _roll = None\n",
    "    _branch = None\n",
    "\n",
    "    def __init__(self, name, roll, branch):\n",
    "        self._name = name\n",
    "        self._roll = roll\n",
    "        self._branch = branch\n",
    "\n",
    "    def _displayRollAndBranch(self):\n",
    "\n",
    "        print(\"Roll:\", self._roll)\n",
    "        print(\"Branch:\", self._branch)\n",
    "\n",
    "class Geek(Student):\n",
    "\n",
    "    def __init__(self, name, roll, branch):\n",
    "        Student.__init__(self, name, roll, branch)\n",
    "\n",
    "    def displayDetails(self):\n",
    "\n",
    "        print(\"Name:\", self._name)\n",
    "\n",
    "        self._displayRollAndBranch()\n",
    "\n",
    "\n",
    "stu = Student(\"Alpha\", 1234567, \"Computer Science\")\n",
    "print(dir(stu))\n",
    "\n",
    "print(stu._name)\n",
    "stu._displayRollAndBranch()\n",
    "\n",
    "obj = Geek(\"R2J\", 1706256, \"Information Technology\")\n",
    "print(\"\")\n",
    "print(dir(obj))\n",
    "\n",
    "obj.displayDetails()\n"
   ]
  },
  {
   "cell_type": "raw",
   "id": "567e6fe4-dbd2-4cf0-a118-e0f190c946df",
   "metadata": {},
   "source": [
    "3)Private Access Modifier:\n",
    "The members of a class that are declared private are accessible within the class only, private access modifier is the most secure access modifier. Data members of a class are declared private by adding a double underscore ‘__’ symbol before the data member of that class. \n",
    "ex-"
   ]
  },
  {
   "cell_type": "code",
   "execution_count": 6,
   "id": "a290a23b-64e9-4d28-bae7-b4f710e3b66b",
   "metadata": {},
   "outputs": [
    {
     "name": "stdout",
     "output_type": "stream",
     "text": [
      "['_Geek__branch', '_Geek__displayDetails', '_Geek__name', '_Geek__roll', '__class__', '__delattr__', '__dict__', '__dir__', '__doc__', '__eq__', '__format__', '__ge__', '__getattribute__', '__getstate__', '__gt__', '__hash__', '__init__', '__init_subclass__', '__le__', '__lt__', '__module__', '__ne__', '__new__', '__reduce__', '__reduce_ex__', '__repr__', '__setattr__', '__sizeof__', '__str__', '__subclasshook__', '__weakref__', 'accessPrivateFunction']\n",
      "\n",
      "R2J\n",
      "1706256\n",
      "Information Technology\n",
      "Name: R2J\n",
      "Roll: 1706256\n",
      "Branch: Information Technology\n",
      "\n",
      "Name: R2J\n",
      "Roll: 1706256\n",
      "Branch: Information Technology\n"
     ]
    }
   ],
   "source": [
    "class Geek:\n",
    "    __name = None\n",
    "    __roll = None\n",
    "    __branch = None\n",
    "\n",
    "    def __init__(self, name, roll, branch):\n",
    "        self.__name = name\n",
    "        self.__roll = roll\n",
    "        self.__branch = branch\n",
    "\n",
    "    def __displayDetails(self):\n",
    "        print(\"Name:\", self.__name)\n",
    "        print(\"Roll:\", self.__roll)\n",
    "        print(\"Branch:\", self.__branch)\n",
    "\n",
    "    def accessPrivateFunction(self):\n",
    "\n",
    "        self.__displayDetails()\n",
    "\n",
    "obj = Geek(\"R2J\", 1706256, \"Information Technology\")\n",
    "\n",
    "print(dir(obj))\n",
    "print(\"\")\n",
    "\n",
    "print(obj._Geek__name)\n",
    "print(obj._Geek__roll)\n",
    "print(obj._Geek__branch)\n",
    "obj._Geek__displayDetails()\n",
    "\n",
    "print(\"\")\n",
    "\n",
    "obj.accessPrivateFunction()\n"
   ]
  },
  {
   "cell_type": "raw",
   "id": "903c56b3-d188-4127-bfb9-95111fa1acc0",
   "metadata": {},
   "source": [
    "Q6.Describe the five types of inheritance in Python. Provide a simple example of multiple inheritance.\n",
    "Answer:-\n",
    "Inheritance is defined as the mechanism of inheriting the properties of the base class to the child class. Here we a going to see the types of inheritance in Python.\n",
    "Types of Inheritance depend upon the number of child and parent classes involved. There are four types of inheritance in Python:\n",
    "\n",
    "1)Single Inheritance: \n",
    "Single inheritance enables a derived class to inherit properties from a single parent class, thus enabling code reusability and the addition of new features to existing code.\n",
    "\n",
    "2)Multiple Inheritance: \n",
    "When a class can be derived from more than one base class this type of inheritance is called multiple inheritances. In multiple inheritances, all the features of the base classes are inherited into the derived class. \n",
    "ex-"
   ]
  },
  {
   "cell_type": "code",
   "execution_count": 7,
   "id": "c55309e8-d76a-4726-8e30-44099e4b33b3",
   "metadata": {},
   "outputs": [
    {
     "name": "stdout",
     "output_type": "stream",
     "text": [
      "Father : RAM\n",
      "Mother : SITA\n"
     ]
    }
   ],
   "source": [
    "class Mother:\n",
    "\tmothername = \"\"\n",
    "\n",
    "\tdef mother(self):\n",
    "\t\tprint(self.mothername)\n",
    "\n",
    "\n",
    "class Father:\n",
    "\tfathername = \"\"\n",
    "\n",
    "\tdef father(self):\n",
    "\t\tprint(self.fathername)\n",
    "\n",
    "\n",
    "\n",
    "class Son(Mother, Father):\n",
    "\tdef parents(self):\n",
    "\t\tprint(\"Father :\", self.fathername)\n",
    "\t\tprint(\"Mother :\", self.mothername)\n",
    "\n",
    "s1 = Son()\n",
    "s1.fathername = \"RAM\"\n",
    "s1.mothername = \"SITA\"\n",
    "s1.parents()\n"
   ]
  },
  {
   "cell_type": "raw",
   "id": "e3a66176-58d9-43ff-8290-7623cd6bf1aa",
   "metadata": {},
   "source": [
    "3)Multilevel Inheritance :\n",
    "In multilevel inheritance, features of the base class and the derived class are further inherited into the new derived class. This is similar to a relationship representing a child and a grandfather. \n",
    "\n",
    "4)Hierarchical Inheritance: \n",
    "When more than one derived class are created from a single base this type of inheritance is called hierarchical inheritance. In this program, we have a parent (base) class and two child (derived) classes.\n",
    "\n",
    "5)Hybrid Inheritance: \n",
    "Inheritance consisting of multiple types of inheritance is called hybrid inheritance."
   ]
  },
  {
   "cell_type": "raw",
   "id": "485e92f6-76f0-43f7-b696-433da6c6917f",
   "metadata": {},
   "source": [
    "Q7.What is the Method Resolution Order (MRO) in Python? How can you retrieve it programmatically?\n",
    "Answer:-\n",
    " Method Resolution Order : \n",
    "Method Resolution Order(MRO) it denotes the way a programming language resolves a method or attribute. Python supports classes inheriting from other classes. The class being inherited is called the Parent or Superclass, while the class that inherits is called the Child or Subclass. In python, method resolution order defines the order in which the base classes are searched when executing a method. First, the method or attribute is searched within a class and then it follows the order we specified while inheriting. This order is also called Linearization of a class and set of rules are called MRO(Method Resolution Order). While inheriting from another class, the interpreter needs a way to resolve the methods that are being called via an instance. Thus we need the method resolution order.\n",
    "ex-"
   ]
  },
  {
   "cell_type": "code",
   "execution_count": 13,
   "id": "458bd794-e94b-445b-aa93-7f5e9fbc0c58",
   "metadata": {},
   "outputs": [],
   "source": [
    "class A: \n",
    "    pass\n",
    "\n",
    "\n",
    "class B: \n",
    "    pass\n",
    "\n",
    "\n",
    "class C(B): \n",
    "    pass\n",
    "\n",
    "\n",
    "class D(A): \n",
    "    pass\n",
    "\n",
    "\n",
    "class E(D): \n",
    "    pass\n"
   ]
  },
  {
   "cell_type": "code",
   "execution_count": 14,
   "id": "8fb3de91-aef6-47a6-b653-09bd7c73e2fc",
   "metadata": {},
   "outputs": [
    {
     "name": "stdout",
     "output_type": "stream",
     "text": [
      "Area of the circle: 78.53981633974483\n",
      "Area of the rectangle: 24\n"
     ]
    }
   ],
   "source": [
    "#Q8.Create an abstract base class `Shape` with an abstract method `area()`. Then create two subclasses`Circle` and `Rectangle` that implement the `area()` method.\n",
    "#Answer:-\n",
    "from abc import ABC, abstractmethod\n",
    "import math\n",
    "\n",
    "class Shape(ABC):\n",
    "    @abstractmethod\n",
    "    def area(self):\n",
    "        pass\n",
    "\n",
    "class Circle(Shape):\n",
    "    def __init__(self, radius):\n",
    "        self.radius = radius\n",
    "\n",
    "    def area(self):\n",
    "        return math.pi * (self.radius ** 2)\n",
    "\n",
    "class Rectangle(Shape):\n",
    "    def __init__(self, width, height):\n",
    "        self.width = width\n",
    "        self.height = height\n",
    "\n",
    "    def area(self):\n",
    "        return self.width * self.height\n",
    "\n",
    "if __name__ == \"__main__\":\n",
    "    circle = Circle(5)\n",
    "    rectangle = Rectangle(4, 6)\n",
    "\n",
    "    print(f\"Area of the circle: {circle.area()}\")\n",
    "    print(f\"Area of the rectangle: {rectangle.area()}\")\n"
   ]
  },
  {
   "cell_type": "code",
   "execution_count": 16,
   "id": "35992e87-3278-47f3-88be-91bf43c91d98",
   "metadata": {},
   "outputs": [
    {
     "name": "stdout",
     "output_type": "stream",
     "text": [
      "Area: 78.53981633974483\n",
      "Area: 24\n"
     ]
    }
   ],
   "source": [
    "#Q9.Demonstrate polymorphism by creating a function that can work with different shape objects to calculate print their areas.\n",
    "#Answer:-\n",
    "from abc import ABC, abstractmethod\n",
    "import math\n",
    "\n",
    "class Shape(ABC):\n",
    "    @abstractmethod\n",
    "    def area(self):\n",
    "        pass\n",
    "\n",
    "\n",
    "class Circle(Shape):\n",
    "    def __init__(self, radius):\n",
    "        self.radius = radius\n",
    "\n",
    "    def area(self):\n",
    "        return math.pi * (self.radius ** 2)\n",
    "\n",
    "class Rectangle(Shape):\n",
    "    def __init__(self, width, height):\n",
    "        self.width = width\n",
    "        self.height = height\n",
    "\n",
    "    def area(self):\n",
    "        return self.width * self.height\n",
    "\n",
    "def print_area(shape: Shape):\n",
    "    print(f\"Area: {shape.area()}\")\n",
    "\n",
    "if __name__ == \"__main__\":\n",
    "    circle = Circle(5)\n",
    "    rectangle = Rectangle(4, 6)\n",
    "\n",
    "    print_area(circle)  \n",
    "    print_area(rectangle)  \n"
   ]
  },
  {
   "cell_type": "code",
   "execution_count": 17,
   "id": "6f22f25d-98b5-430b-96d2-aaa6d3a4bb5d",
   "metadata": {},
   "outputs": [
    {
     "name": "stdout",
     "output_type": "stream",
     "text": [
      "Deposited: $200.00. New balance: $1200.00\n",
      "Withdrew: $150.00. New balance: $1050.00\n",
      "Insufficient funds.\n",
      "Current Balance: $1050.00\n",
      "Account Number: 123456789\n"
     ]
    }
   ],
   "source": [
    "#Q10. Implement encapsulation in a `BankAccount` class with private attributes for `balance` and`account_number`. Include methods for deposit, withdrawal, and balance inquiry.\n",
    "#Answer:-\n",
    "class BankAccount:\n",
    "    def __init__(self, account_number, initial_balance=0):\n",
    "        self.__account_number = account_number  # Private attribute\n",
    "        self.__balance = initial_balance  # Private attribute\n",
    "\n",
    "    def deposit(self, amount):\n",
    "        \"\"\"Deposits a specified amount into the account.\"\"\"\n",
    "        if amount > 0:\n",
    "            self.__balance += amount\n",
    "            print(f\"Deposited: ${amount:.2f}. New balance: ${self.__balance:.2f}\")\n",
    "        else:\n",
    "            print(\"Deposit amount must be positive.\")\n",
    "\n",
    "    def withdraw(self, amount):\n",
    "        \"\"\"Withdraws a specified amount from the account.\"\"\"\n",
    "        if 0 < amount <= self.__balance:\n",
    "            self.__balance -= amount\n",
    "            print(f\"Withdrew: ${amount:.2f}. New balance: ${self.__balance:.2f}\")\n",
    "        elif amount > self.__balance:\n",
    "            print(\"Insufficient funds.\")\n",
    "        else:\n",
    "            print(\"Withdrawal amount must be positive.\")\n",
    "\n",
    "    def get_balance(self):\n",
    "        \"\"\"Returns the current balance.\"\"\"\n",
    "        return self.__balance\n",
    "\n",
    "    def get_account_number(self):\n",
    "        \"\"\"Returns the account number.\"\"\"\n",
    "        return self.__account_number\n",
    "\n",
    "\n",
    "if __name__ == \"__main__\":\n",
    "    account = BankAccount(\"123456789\", 1000)\n",
    "\n",
    "    # Perform some operations\n",
    "    account.deposit(200)      \n",
    "    account.withdraw(150)      \n",
    "    account.withdraw(1200)     \n",
    "    print(f\"Current Balance: ${account.get_balance():.2f}\") \n",
    "    print(f\"Account Number: {account.get_account_number()}\") \n"
   ]
  },
  {
   "cell_type": "code",
   "execution_count": 18,
   "id": "6d1d36d9-5dcf-4ed2-be64-41c141d8682f",
   "metadata": {},
   "outputs": [
    {
     "name": "stdout",
     "output_type": "stream",
     "text": [
      "Vector(2, 3)\n",
      "Vector(4, 5)\n",
      "Vector(6, 8)\n"
     ]
    }
   ],
   "source": [
    "#Q11. Write a class that overrides the `__str__` and `__add__` magic methods. What will these methods allowyou to do?\n",
    "#Answer:-\n",
    "class Vector:\n",
    "    def __init__(self, x, y):\n",
    "        self.x = x\n",
    "        self.y = y\n",
    "\n",
    "    def __str__(self):\n",
    "        \"\"\"Return a string representation of the vector.\"\"\"\n",
    "        return f\"Vector({self.x}, {self.y})\"\n",
    "\n",
    "    def __add__(self, other):\n",
    "        \"\"\"Add two vectors together.\"\"\"\n",
    "        if isinstance(other, Vector):\n",
    "            return Vector(self.x + other.x, self.y + other.y)\n",
    "        return NotImplemented\n",
    "\n",
    "if __name__ == \"__main__\":\n",
    "    v1 = Vector(2, 3)\n",
    "    v2 = Vector(4, 5)\n",
    "\n",
    "    print(v1)             \n",
    "    print(v2)             \n",
    "\n",
    "    v3 = v1 + v2         \n",
    "    print(v3)            \n"
   ]
  },
  {
   "cell_type": "code",
   "execution_count": 20,
   "id": "7bd01c36-5166-4377-b6e0-25e0f7dd379a",
   "metadata": {},
   "outputs": [
    {
     "name": "stdout",
     "output_type": "stream",
     "text": [
      "Execution time of sample_function: 0.081629 seconds\n",
      "Result: 499999500000\n"
     ]
    }
   ],
   "source": [
    "#Q12.Create a decorator that measures and prints the execution time of a function.\n",
    "#Answer:-\n",
    "import time\n",
    "from functools import wraps\n",
    "\n",
    "def timing_decorator(func):\n",
    "    @wraps(func)\n",
    "    def wrapper(*args, **kwargs):\n",
    "        start_time = time.time()  # Record the start time\n",
    "        result = func(*args, **kwargs)  # Call the original function\n",
    "        end_time = time.time()  # Record the end time\n",
    "        execution_time = end_time - start_time  # Calculate the execution time\n",
    "        print(f\"Execution time of {func.__name__}: {execution_time:.6f} seconds\")\n",
    "        return result  # Return the result of the original function\n",
    "    return wrapper\n",
    "\n",
    "@timing_decorator\n",
    "def sample_function(n):\n",
    "    \"\"\"A sample function that sums the first n numbers.\"\"\"\n",
    "    total = sum(range(n))\n",
    "    return total\n",
    "\n",
    "if __name__ == \"__main__\":\n",
    "    result = sample_function(1000000)  # Call the decorated function\n",
    "    print(f\"Result: {result}\")\n"
   ]
  },
  {
   "cell_type": "raw",
   "id": "376a4266-05c1-47d3-aa9d-d0df49ba3875",
   "metadata": {},
   "source": [
    "Q13. Explain the concept of the Diamond Problem in multiple inheritance. How does Python resolve it?\n",
    "Answer:-\n",
    "Inheritance is the mechanism to achieve the re-usability of code as one class(child class) can derive the properties of another class(parent class). It also provides transitivity ie. if class C inherits from P then all the sub-classes of C would also inherit from P.\n",
    " \n",
    "Multiple Inheritance \n",
    "When a class is derived from more than one base class it is called multiple Inheritance. The derived class inherits all the features of the base case.\n",
    "In the coming section, we will see the problem faced during multiple inheritance and how to tackle it with the help of examples.\n",
    " \n",
    "The Diamond Problem\n",
    "It refers to an ambiguity that arises when two classes Class2 and Class3 inherit from a superclass Class1 and class Class4 inherits from both Class2 and Class3. If there is a method “m” which is an overridden method in one of Class2 and Class3 or both then the ambiguity arises which of the method “m” Class4 should inherit.\n",
    " ex-"
   ]
  },
  {
   "cell_type": "code",
   "execution_count": 21,
   "id": "b6961e49-3a41-4d4c-a850-7780f05d5a01",
   "metadata": {},
   "outputs": [
    {
     "name": "stdout",
     "output_type": "stream",
     "text": [
      "In Class2\n"
     ]
    }
   ],
   "source": [
    "class Class1:\n",
    "\tdef m(self):\n",
    "\t\tprint(\"In Class1\") \n",
    "\t\n",
    "class Class2(Class1):\n",
    "\tdef m(self):\n",
    "\t\tprint(\"In Class2\")\n",
    "\n",
    "class Class3(Class1):\n",
    "\tdef m(self):\n",
    "\t\tprint(\"In Class3\") \n",
    "\t\t\n",
    "class Class4(Class2, Class3):\n",
    "\tpass\n",
    "\t\n",
    "obj = Class4()\n",
    "obj.m()\n"
   ]
  },
  {
   "cell_type": "code",
   "execution_count": 32,
   "id": "e87307d3-936d-4b17-99b9-325ce1f99985",
   "metadata": {},
   "outputs": [
    {
     "name": "stdout",
     "output_type": "stream",
     "text": [
      "3\n"
     ]
    }
   ],
   "source": [
    "#Q14. Write a class method that keeps track of the number of instances created from a class\n",
    "#Answer:-\n",
    "class geeks: \n",
    "\n",
    "\tcounter = 0\n",
    "\n",
    "\tdef __init__(self): \n",
    "\t\t\n",
    "\t\t\n",
    "\t\tgeeks.counter += 1\n",
    "\n",
    "\n",
    "g1 = geeks() \n",
    "g2 = geeks() \n",
    "g3 = geeks() \n",
    "print(geeks.counter) \n"
   ]
  },
  {
   "cell_type": "code",
   "execution_count": 33,
   "id": "76018963-420e-4985-a360-a995402c9812",
   "metadata": {},
   "outputs": [
    {
     "name": "stdout",
     "output_type": "stream",
     "text": [
      "2024 is a leap year.\n",
      "1900 is not a leap year.\n"
     ]
    }
   ],
   "source": [
    "#Q15.Implement a static method in a class that checks if a given year is a leap year.\n",
    "#Answer:-\n",
    "class YearUtils:\n",
    "    @staticmethod\n",
    "    def is_leap_year(year):\n",
    "        \"\"\"Check if the given year is a leap year.\"\"\"\n",
    "        if (year % 4 == 0 and year % 100 != 0) or (year % 400 == 0):\n",
    "            return True\n",
    "        return False\n",
    "\n",
    "if __name__ == \"__main__\":\n",
    "    year = 2024\n",
    "    if YearUtils.is_leap_year(year):\n",
    "        print(f\"{year} is a leap year.\")\n",
    "    else:\n",
    "        print(f\"{year} is not a leap year.\")\n",
    "\n",
    "    year = 1900\n",
    "    if YearUtils.is_leap_year(year):\n",
    "        print(f\"{year} is a leap year.\")\n",
    "    else:\n",
    "        print(f\"{year} is not a leap year.\")\n"
   ]
  },
  {
   "cell_type": "code",
   "execution_count": null,
   "id": "12183918-4985-4ff8-8260-f11880bdb265",
   "metadata": {},
   "outputs": [],
   "source": []
  }
 ],
 "metadata": {
  "kernelspec": {
   "display_name": "Python 3 (ipykernel)",
   "language": "python",
   "name": "python3"
  },
  "language_info": {
   "codemirror_mode": {
    "name": "ipython",
    "version": 3
   },
   "file_extension": ".py",
   "mimetype": "text/x-python",
   "name": "python",
   "nbconvert_exporter": "python",
   "pygments_lexer": "ipython3",
   "version": "3.12.4"
  }
 },
 "nbformat": 4,
 "nbformat_minor": 5
}
